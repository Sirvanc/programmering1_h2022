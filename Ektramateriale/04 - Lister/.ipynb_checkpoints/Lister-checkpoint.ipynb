{
 "cells": [
  {
   "cell_type": "markdown",
   "metadata": {},
   "source": [
    "# Lister"
   ]
  },
  {
   "cell_type": "markdown",
   "metadata": {},
   "source": [
    "Lister er..."
   ]
  },
  {
   "cell_type": "markdown",
   "metadata": {},
   "source": [
    "## Hvordan opprette en liste"
   ]
  },
  {
   "cell_type": "markdown",
   "metadata": {},
   "source": [
    "For å oprette en liste definerer man en variabel på vanlig måte men man definerer verdien som en liste ved bruk av \\[\\]. <br>\n",
    "Innholdet av en liste kan i utganspunktet være hva som helst, både av samme eller forsjellige typer verdier. <br>\n",
    "Under er ett eksempel av en liste med tekststrenger som representerer titler på forskjellige videospill:"
   ]
  },
  {
   "cell_type": "code",
   "execution_count": 12,
   "metadata": {},
   "outputs": [
    {
     "name": "stdout",
     "output_type": "stream",
     "text": [
      "['Dark Souls', 'Legend of Zelda', 'Fortnite', 'Tetris']\n"
     ]
    }
   ],
   "source": [
    "videogames = [\"Dark Souls\", \"Legend of Zelda\", \"Fortnite\", \"Tetris\"]\n",
    "print(videogames)"
   ]
  },
  {
   "cell_type": "markdown",
   "metadata": {},
   "source": [
    "Det følgende er et eksempel på en liste med vilkålige verdier av forskjellige datatyper:"
   ]
  },
  {
   "cell_type": "code",
   "execution_count": 13,
   "metadata": {},
   "outputs": [
    {
     "name": "stdout",
     "output_type": "stream",
     "text": [
      "['Martin', 42, 3.14, True, 1000]\n"
     ]
    }
   ],
   "source": [
    "random_list = [\"Martin\", 42, 3.14, True, 1000]\n",
    "print(random_list)"
   ]
  },
  {
   "cell_type": "markdown",
   "metadata": {},
   "source": [
    "Bemerk at forskjellige datatyper innen en liste ikke nødvendigvis er støttet innenfor andre programmeringsspråk"
   ]
  },
  {
   "cell_type": "markdown",
   "metadata": {},
   "source": [
    "## Hvordan å refere til et spesifikt element i en liste"
   ]
  },
  {
   "cell_type": "markdown",
   "metadata": {},
   "source": [
    "..."
   ]
  },
  {
   "cell_type": "code",
   "execution_count": 14,
   "metadata": {},
   "outputs": [
    {
     "name": "stdout",
     "output_type": "stream",
     "text": [
      "Dark Souls\n"
     ]
    }
   ],
   "source": [
    "videogames = [\"Dark Souls\", \"Legend of Zelda\", \"Fortnite\", \"Tetris\"]\n",
    "print(videogames[0])"
   ]
  },
  {
   "cell_type": "code",
   "execution_count": 15,
   "metadata": {},
   "outputs": [
    {
     "name": "stdout",
     "output_type": "stream",
     "text": [
      "Legend of Zelda\n"
     ]
    }
   ],
   "source": [
    "videogames = [\"Dark Souls\", \"Legend of Zelda\", \"Fortnite\", \"Tetris\"]\n",
    "print(videogames[1])"
   ]
  },
  {
   "cell_type": "markdown",
   "metadata": {},
   "source": [
    "## Hvordan endre et spesifikt element i en liste"
   ]
  },
  {
   "cell_type": "markdown",
   "metadata": {},
   "source": [
    "På samme måte som når man referer kan man sette et referert listeelement til en ny verdi"
   ]
  },
  {
   "cell_type": "code",
   "execution_count": null,
   "metadata": {},
   "outputs": [],
   "source": []
  },
  {
   "cell_type": "code",
   "execution_count": null,
   "metadata": {},
   "outputs": [],
   "source": []
  },
  {
   "cell_type": "code",
   "execution_count": null,
   "metadata": {},
   "outputs": [],
   "source": []
  },
  {
   "cell_type": "code",
   "execution_count": 8,
   "metadata": {},
   "outputs": [
    {
     "data": {
      "text/plain": [
       "[6, 5, 3]"
      ]
     },
     "execution_count": 8,
     "metadata": {},
     "output_type": "execute_result"
    }
   ],
   "source": [
    "value_list = [5, 6, 3]\n",
    "sorted(value_list, reverse=True)"
   ]
  },
  {
   "cell_type": "code",
   "execution_count": 11,
   "metadata": {},
   "outputs": [
    {
     "data": {
      "text/plain": [
       "[3, 2, 1]"
      ]
     },
     "execution_count": 11,
     "metadata": {},
     "output_type": "execute_result"
    }
   ],
   "source": [
    "value_list = [1,2,3]\n",
    "value_list.reverse()\n",
    "value_list"
   ]
  },
  {
   "cell_type": "code",
   "execution_count": null,
   "metadata": {},
   "outputs": [],
   "source": []
  }
 ],
 "metadata": {
  "kernelspec": {
   "display_name": "Python 3",
   "language": "python",
   "name": "python3"
  },
  "language_info": {
   "codemirror_mode": {
    "name": "ipython",
    "version": 3
   },
   "file_extension": ".py",
   "mimetype": "text/x-python",
   "name": "python",
   "nbconvert_exporter": "python",
   "pygments_lexer": "ipython3",
   "version": "3.8.6"
  }
 },
 "nbformat": 4,
 "nbformat_minor": 4
}
